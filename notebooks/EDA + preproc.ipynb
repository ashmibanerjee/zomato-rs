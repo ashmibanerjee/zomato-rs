{
 "cells": [
  {
   "cell_type": "code",
   "execution_count": 1,
   "id": "ad27b66c",
   "metadata": {},
   "outputs": [],
   "source": [
    "import pandas as pd\n",
    "import numpy as np"
   ]
  },
  {
   "cell_type": "code",
   "execution_count": 2,
   "id": "a474ba9d",
   "metadata": {},
   "outputs": [],
   "source": [
    "df = pd.read_csv(\"../data/Zomato_Kolkata.csv\")"
   ]
  },
  {
   "cell_type": "code",
   "execution_count": 3,
   "id": "ff55b18e",
   "metadata": {},
   "outputs": [
    {
     "data": {
      "text/html": [
       "<div>\n",
       "<style scoped>\n",
       "    .dataframe tbody tr th:only-of-type {\n",
       "        vertical-align: middle;\n",
       "    }\n",
       "\n",
       "    .dataframe tbody tr th {\n",
       "        vertical-align: top;\n",
       "    }\n",
       "\n",
       "    .dataframe thead th {\n",
       "        text-align: right;\n",
       "    }\n",
       "</style>\n",
       "<table border=\"1\" class=\"dataframe\">\n",
       "  <thead>\n",
       "    <tr style=\"text-align: right;\">\n",
       "      <th></th>\n",
       "      <th>name</th>\n",
       "      <th>voteCount</th>\n",
       "      <th>rating</th>\n",
       "      <th>address</th>\n",
       "      <th>cusine</th>\n",
       "      <th>cost</th>\n",
       "      <th>timing</th>\n",
       "    </tr>\n",
       "  </thead>\n",
       "  <tbody>\n",
       "    <tr>\n",
       "      <th>0</th>\n",
       "      <td>Peter Cat</td>\n",
       "      <td>12404 votes</td>\n",
       "      <td>4.2</td>\n",
       "      <td>18A, Park Street, Park Street Area, Kolkata</td>\n",
       "      <td>North Indian, Continental</td>\n",
       "      <td>₹1,000</td>\n",
       "      <td>11am – 11:20pm (Mon-Sun)</td>\n",
       "    </tr>\n",
       "    <tr>\n",
       "      <th>1</th>\n",
       "      <td>Naturals Ice Cream</td>\n",
       "      <td>2498 votes</td>\n",
       "      <td>4.9</td>\n",
       "      <td>77/1/A, Ground Floor, Near West Bengal Board, ...</td>\n",
       "      <td>North Indian, Continental</td>\n",
       "      <td>₹200</td>\n",
       "      <td>11am – 12midnight (Mon-Sun)</td>\n",
       "    </tr>\n",
       "    <tr>\n",
       "      <th>2</th>\n",
       "      <td>Carpe Diem</td>\n",
       "      <td>4083 votes</td>\n",
       "      <td>4.4</td>\n",
       "      <td>18M, Park Street Area, Kolkata</td>\n",
       "      <td>Ice Cream</td>\n",
       "      <td>₹1,000</td>\n",
       "      <td>12noon – 12midnight (Mon, Tue, Wed, Thu, Fri...</td>\n",
       "    </tr>\n",
       "    <tr>\n",
       "      <th>3</th>\n",
       "      <td>Barbeque Nation</td>\n",
       "      <td>5455 votes</td>\n",
       "      <td>4.6</td>\n",
       "      <td>1st Floor, 24, Park Center Building, Park Stre...</td>\n",
       "      <td>Ice Cream</td>\n",
       "      <td>₹1,800</td>\n",
       "      <td>12noon – 3:30pm, 6:30pm – 10:45pm (Mon-Sun)</td>\n",
       "    </tr>\n",
       "    <tr>\n",
       "      <th>4</th>\n",
       "      <td>Flurys</td>\n",
       "      <td>4709 votes</td>\n",
       "      <td>4.2</td>\n",
       "      <td>15, Apeejay House, Park Street Area, Kolkata</td>\n",
       "      <td>Chinese, North Indian, Continental</td>\n",
       "      <td>₹400</td>\n",
       "      <td>7:30am – 11pm (Mon-Sun)</td>\n",
       "    </tr>\n",
       "    <tr>\n",
       "      <th>...</th>\n",
       "      <td>...</td>\n",
       "      <td>...</td>\n",
       "      <td>...</td>\n",
       "      <td>...</td>\n",
       "      <td>...</td>\n",
       "      <td>...</td>\n",
       "      <td>...</td>\n",
       "    </tr>\n",
       "    <tr>\n",
       "      <th>7383</th>\n",
       "      <td>WOW! ARBA</td>\n",
       "      <td>Cuisines:</td>\n",
       "      <td>NEW</td>\n",
       "      <td>Delivery Only</td>\n",
       "      <td>Chinese, Fast Food</td>\n",
       "      <td>₹150</td>\n",
       "      <td>11am – 11pm (Mon-Sun)</td>\n",
       "    </tr>\n",
       "    <tr>\n",
       "      <th>7384</th>\n",
       "      <td>Renu's</td>\n",
       "      <td>50 votes</td>\n",
       "      <td>2.8</td>\n",
       "      <td>89/109, Vivekananda Road, Bangur Park, Hooghly...</td>\n",
       "      <td>Bengali</td>\n",
       "      <td>₹350</td>\n",
       "      <td>11am – 11pm (Mon-Sun)</td>\n",
       "    </tr>\n",
       "    <tr>\n",
       "      <th>7385</th>\n",
       "      <td>The Food Place</td>\n",
       "      <td>Cuisines:</td>\n",
       "      <td>-</td>\n",
       "      <td>119, Ramkrishna Road, Radhashree, Landmark- Ai...</td>\n",
       "      <td>Bengali</td>\n",
       "      <td>₹150</td>\n",
       "      <td>8am – 11:45pm (Mon-Sun)</td>\n",
       "    </tr>\n",
       "    <tr>\n",
       "      <th>7386</th>\n",
       "      <td>New Dalma Restaurant</td>\n",
       "      <td>Cuisines:</td>\n",
       "      <td>-</td>\n",
       "      <td>Delivery Only</td>\n",
       "      <td>Chinese</td>\n",
       "      <td>₹250</td>\n",
       "      <td>12noon – 10:30pm (Mon-Sun)</td>\n",
       "    </tr>\n",
       "    <tr>\n",
       "      <th>7387</th>\n",
       "      <td>Baanerjee Cabin</td>\n",
       "      <td>Cuisines:</td>\n",
       "      <td>NEW</td>\n",
       "      <td>89, Nripen Sarkar Road, Sahapukur, Sreedurga C...</td>\n",
       "      <td>Chinese</td>\n",
       "      <td>₹200</td>\n",
       "      <td>10am – 11pm (Mon-Sun)</td>\n",
       "    </tr>\n",
       "  </tbody>\n",
       "</table>\n",
       "<p>7388 rows × 7 columns</p>\n",
       "</div>"
      ],
      "text/plain": [
       "                      name    voteCount rating  \\\n",
       "0                Peter Cat  12404 votes    4.2   \n",
       "1       Naturals Ice Cream   2498 votes    4.9   \n",
       "2               Carpe Diem   4083 votes    4.4   \n",
       "3          Barbeque Nation   5455 votes    4.6   \n",
       "4                   Flurys   4709 votes    4.2   \n",
       "...                    ...          ...    ...   \n",
       "7383             WOW! ARBA    Cuisines:    NEW   \n",
       "7384                Renu's     50 votes    2.8   \n",
       "7385        The Food Place    Cuisines:      -   \n",
       "7386  New Dalma Restaurant    Cuisines:      -   \n",
       "7387       Baanerjee Cabin    Cuisines:    NEW   \n",
       "\n",
       "                                                address  \\\n",
       "0           18A, Park Street, Park Street Area, Kolkata   \n",
       "1     77/1/A, Ground Floor, Near West Bengal Board, ...   \n",
       "2                        18M, Park Street Area, Kolkata   \n",
       "3     1st Floor, 24, Park Center Building, Park Stre...   \n",
       "4          15, Apeejay House, Park Street Area, Kolkata   \n",
       "...                                                 ...   \n",
       "7383                                      Delivery Only   \n",
       "7384  89/109, Vivekananda Road, Bangur Park, Hooghly...   \n",
       "7385  119, Ramkrishna Road, Radhashree, Landmark- Ai...   \n",
       "7386                                      Delivery Only   \n",
       "7387  89, Nripen Sarkar Road, Sahapukur, Sreedurga C...   \n",
       "\n",
       "                                  cusine    cost  \\\n",
       "0              North Indian, Continental  ₹1,000   \n",
       "1              North Indian, Continental    ₹200   \n",
       "2                              Ice Cream  ₹1,000   \n",
       "3                              Ice Cream  ₹1,800   \n",
       "4     Chinese, North Indian, Continental    ₹400   \n",
       "...                                  ...     ...   \n",
       "7383                  Chinese, Fast Food    ₹150   \n",
       "7384                             Bengali    ₹350   \n",
       "7385                             Bengali    ₹150   \n",
       "7386                             Chinese    ₹250   \n",
       "7387                             Chinese    ₹200   \n",
       "\n",
       "                                               timing  \n",
       "0                            11am – 11:20pm (Mon-Sun)  \n",
       "1                         11am – 12midnight (Mon-Sun)  \n",
       "2     12noon – 12midnight (Mon, Tue, Wed, Thu, Fri...  \n",
       "3         12noon – 3:30pm, 6:30pm – 10:45pm (Mon-Sun)  \n",
       "4                             7:30am – 11pm (Mon-Sun)  \n",
       "...                                               ...  \n",
       "7383                            11am – 11pm (Mon-Sun)  \n",
       "7384                            11am – 11pm (Mon-Sun)  \n",
       "7385                          8am – 11:45pm (Mon-Sun)  \n",
       "7386                       12noon – 10:30pm (Mon-Sun)  \n",
       "7387                            10am – 11pm (Mon-Sun)  \n",
       "\n",
       "[7388 rows x 7 columns]"
      ]
     },
     "execution_count": 3,
     "metadata": {},
     "output_type": "execute_result"
    }
   ],
   "source": [
    "df"
   ]
  },
  {
   "cell_type": "code",
   "execution_count": 4,
   "id": "b574acc9",
   "metadata": {},
   "outputs": [
    {
     "data": {
      "text/html": [
       "<div>\n",
       "<style scoped>\n",
       "    .dataframe tbody tr th:only-of-type {\n",
       "        vertical-align: middle;\n",
       "    }\n",
       "\n",
       "    .dataframe tbody tr th {\n",
       "        vertical-align: top;\n",
       "    }\n",
       "\n",
       "    .dataframe thead th {\n",
       "        text-align: right;\n",
       "    }\n",
       "</style>\n",
       "<table border=\"1\" class=\"dataframe\">\n",
       "  <thead>\n",
       "    <tr style=\"text-align: right;\">\n",
       "      <th></th>\n",
       "      <th>name</th>\n",
       "      <th>voteCount</th>\n",
       "      <th>rating</th>\n",
       "      <th>address</th>\n",
       "      <th>cusine</th>\n",
       "      <th>cost</th>\n",
       "      <th>timing</th>\n",
       "    </tr>\n",
       "  </thead>\n",
       "  <tbody>\n",
       "    <tr>\n",
       "      <th>0</th>\n",
       "      <td>Peter Cat</td>\n",
       "      <td>12404 votes</td>\n",
       "      <td>4.2</td>\n",
       "      <td>18A, Park Street, Park Street Area, Kolkata</td>\n",
       "      <td>North Indian, Continental</td>\n",
       "      <td>1000.0</td>\n",
       "      <td>11am – 11:20pm (Mon-Sun)</td>\n",
       "    </tr>\n",
       "    <tr>\n",
       "      <th>1</th>\n",
       "      <td>Naturals Ice Cream</td>\n",
       "      <td>2498 votes</td>\n",
       "      <td>4.9</td>\n",
       "      <td>77/1/A, Ground Floor, Near West Bengal Board, ...</td>\n",
       "      <td>North Indian, Continental</td>\n",
       "      <td>200.0</td>\n",
       "      <td>11am – 12midnight (Mon-Sun)</td>\n",
       "    </tr>\n",
       "    <tr>\n",
       "      <th>2</th>\n",
       "      <td>Carpe Diem</td>\n",
       "      <td>4083 votes</td>\n",
       "      <td>4.4</td>\n",
       "      <td>18M, Park Street Area, Kolkata</td>\n",
       "      <td>Ice Cream</td>\n",
       "      <td>1000.0</td>\n",
       "      <td>12noon – 12midnight (Mon, Tue, Wed, Thu, Fri...</td>\n",
       "    </tr>\n",
       "    <tr>\n",
       "      <th>3</th>\n",
       "      <td>Barbeque Nation</td>\n",
       "      <td>5455 votes</td>\n",
       "      <td>4.6</td>\n",
       "      <td>1st Floor, 24, Park Center Building, Park Stre...</td>\n",
       "      <td>Ice Cream</td>\n",
       "      <td>1800.0</td>\n",
       "      <td>12noon – 3:30pm, 6:30pm – 10:45pm (Mon-Sun)</td>\n",
       "    </tr>\n",
       "    <tr>\n",
       "      <th>4</th>\n",
       "      <td>Flurys</td>\n",
       "      <td>4709 votes</td>\n",
       "      <td>4.2</td>\n",
       "      <td>15, Apeejay House, Park Street Area, Kolkata</td>\n",
       "      <td>Chinese, North Indian, Continental</td>\n",
       "      <td>400.0</td>\n",
       "      <td>7:30am – 11pm (Mon-Sun)</td>\n",
       "    </tr>\n",
       "    <tr>\n",
       "      <th>...</th>\n",
       "      <td>...</td>\n",
       "      <td>...</td>\n",
       "      <td>...</td>\n",
       "      <td>...</td>\n",
       "      <td>...</td>\n",
       "      <td>...</td>\n",
       "      <td>...</td>\n",
       "    </tr>\n",
       "    <tr>\n",
       "      <th>7383</th>\n",
       "      <td>WOW! ARBA</td>\n",
       "      <td>Cuisines:</td>\n",
       "      <td>NEW</td>\n",
       "      <td>Delivery Only</td>\n",
       "      <td>Chinese, Fast Food</td>\n",
       "      <td>150.0</td>\n",
       "      <td>11am – 11pm (Mon-Sun)</td>\n",
       "    </tr>\n",
       "    <tr>\n",
       "      <th>7384</th>\n",
       "      <td>Renu's</td>\n",
       "      <td>50 votes</td>\n",
       "      <td>2.8</td>\n",
       "      <td>89/109, Vivekananda Road, Bangur Park, Hooghly...</td>\n",
       "      <td>Bengali</td>\n",
       "      <td>350.0</td>\n",
       "      <td>11am – 11pm (Mon-Sun)</td>\n",
       "    </tr>\n",
       "    <tr>\n",
       "      <th>7385</th>\n",
       "      <td>The Food Place</td>\n",
       "      <td>Cuisines:</td>\n",
       "      <td>-</td>\n",
       "      <td>119, Ramkrishna Road, Radhashree, Landmark- Ai...</td>\n",
       "      <td>Bengali</td>\n",
       "      <td>150.0</td>\n",
       "      <td>8am – 11:45pm (Mon-Sun)</td>\n",
       "    </tr>\n",
       "    <tr>\n",
       "      <th>7386</th>\n",
       "      <td>New Dalma Restaurant</td>\n",
       "      <td>Cuisines:</td>\n",
       "      <td>-</td>\n",
       "      <td>Delivery Only</td>\n",
       "      <td>Chinese</td>\n",
       "      <td>250.0</td>\n",
       "      <td>12noon – 10:30pm (Mon-Sun)</td>\n",
       "    </tr>\n",
       "    <tr>\n",
       "      <th>7387</th>\n",
       "      <td>Baanerjee Cabin</td>\n",
       "      <td>Cuisines:</td>\n",
       "      <td>NEW</td>\n",
       "      <td>89, Nripen Sarkar Road, Sahapukur, Sreedurga C...</td>\n",
       "      <td>Chinese</td>\n",
       "      <td>200.0</td>\n",
       "      <td>10am – 11pm (Mon-Sun)</td>\n",
       "    </tr>\n",
       "  </tbody>\n",
       "</table>\n",
       "<p>7388 rows × 7 columns</p>\n",
       "</div>"
      ],
      "text/plain": [
       "                      name    voteCount rating  \\\n",
       "0                Peter Cat  12404 votes    4.2   \n",
       "1       Naturals Ice Cream   2498 votes    4.9   \n",
       "2               Carpe Diem   4083 votes    4.4   \n",
       "3          Barbeque Nation   5455 votes    4.6   \n",
       "4                   Flurys   4709 votes    4.2   \n",
       "...                    ...          ...    ...   \n",
       "7383             WOW! ARBA    Cuisines:    NEW   \n",
       "7384                Renu's     50 votes    2.8   \n",
       "7385        The Food Place    Cuisines:      -   \n",
       "7386  New Dalma Restaurant    Cuisines:      -   \n",
       "7387       Baanerjee Cabin    Cuisines:    NEW   \n",
       "\n",
       "                                                address  \\\n",
       "0           18A, Park Street, Park Street Area, Kolkata   \n",
       "1     77/1/A, Ground Floor, Near West Bengal Board, ...   \n",
       "2                        18M, Park Street Area, Kolkata   \n",
       "3     1st Floor, 24, Park Center Building, Park Stre...   \n",
       "4          15, Apeejay House, Park Street Area, Kolkata   \n",
       "...                                                 ...   \n",
       "7383                                      Delivery Only   \n",
       "7384  89/109, Vivekananda Road, Bangur Park, Hooghly...   \n",
       "7385  119, Ramkrishna Road, Radhashree, Landmark- Ai...   \n",
       "7386                                      Delivery Only   \n",
       "7387  89, Nripen Sarkar Road, Sahapukur, Sreedurga C...   \n",
       "\n",
       "                                  cusine    cost  \\\n",
       "0              North Indian, Continental  1000.0   \n",
       "1              North Indian, Continental   200.0   \n",
       "2                              Ice Cream  1000.0   \n",
       "3                              Ice Cream  1800.0   \n",
       "4     Chinese, North Indian, Continental   400.0   \n",
       "...                                  ...     ...   \n",
       "7383                  Chinese, Fast Food   150.0   \n",
       "7384                             Bengali   350.0   \n",
       "7385                             Bengali   150.0   \n",
       "7386                             Chinese   250.0   \n",
       "7387                             Chinese   200.0   \n",
       "\n",
       "                                               timing  \n",
       "0                            11am – 11:20pm (Mon-Sun)  \n",
       "1                         11am – 12midnight (Mon-Sun)  \n",
       "2     12noon – 12midnight (Mon, Tue, Wed, Thu, Fri...  \n",
       "3         12noon – 3:30pm, 6:30pm – 10:45pm (Mon-Sun)  \n",
       "4                             7:30am – 11pm (Mon-Sun)  \n",
       "...                                               ...  \n",
       "7383                            11am – 11pm (Mon-Sun)  \n",
       "7384                            11am – 11pm (Mon-Sun)  \n",
       "7385                          8am – 11:45pm (Mon-Sun)  \n",
       "7386                       12noon – 10:30pm (Mon-Sun)  \n",
       "7387                            10am – 11pm (Mon-Sun)  \n",
       "\n",
       "[7388 rows x 7 columns]"
      ]
     },
     "execution_count": 4,
     "metadata": {},
     "output_type": "execute_result"
    }
   ],
   "source": [
    "df[\"cost\"] = df[\"cost\"].str.replace(',','')\n",
    "df[\"cost\"] = df[\"cost\"].str.replace('₹','')\n",
    "df[\"cost\"] = df[\"cost\"].astype(\"float\")\n",
    "df"
   ]
  },
  {
   "cell_type": "code",
   "execution_count": 5,
   "id": "cefdf44f",
   "metadata": {},
   "outputs": [
    {
     "name": "stderr",
     "output_type": "stream",
     "text": [
      "/var/folders/gk/1_hpxk0x6bvfh9xs2r_splw40000gn/T/ipykernel_5828/1172533626.py:2: SettingWithCopyWarning: \n",
      "A value is trying to be set on a copy of a slice from a DataFrame.\n",
      "Try using .loc[row_indexer,col_indexer] = value instead\n",
      "\n",
      "See the caveats in the documentation: https://pandas.pydata.org/pandas-docs/stable/user_guide/indexing.html#returning-a-view-versus-a-copy\n",
      "  df[\"rating\"] = df[\"rating\"].astype(\"float\")\n"
     ]
    },
    {
     "data": {
      "text/plain": [
       "(5199, 7)"
      ]
     },
     "execution_count": 5,
     "metadata": {},
     "output_type": "execute_result"
    }
   ],
   "source": [
    "df = df.loc[~df[\"rating\"].isin([\"NEW\", \"-\", np.nan])]\n",
    "df[\"rating\"] = df[\"rating\"].astype(\"float\")\n",
    "df.shape"
   ]
  },
  {
   "cell_type": "code",
   "execution_count": 6,
   "id": "f8677f8a",
   "metadata": {},
   "outputs": [
    {
     "data": {
      "text/plain": [
       "(5193, 7)"
      ]
     },
     "execution_count": 6,
     "metadata": {},
     "output_type": "execute_result"
    }
   ],
   "source": [
    "df = df.loc[~df[\"voteCount\"].isin([\"Cuisines:\",np.nan])]\n",
    "df.shape"
   ]
  },
  {
   "cell_type": "code",
   "execution_count": 7,
   "id": "7f569e08",
   "metadata": {},
   "outputs": [
    {
     "data": {
      "text/html": [
       "<div>\n",
       "<style scoped>\n",
       "    .dataframe tbody tr th:only-of-type {\n",
       "        vertical-align: middle;\n",
       "    }\n",
       "\n",
       "    .dataframe tbody tr th {\n",
       "        vertical-align: top;\n",
       "    }\n",
       "\n",
       "    .dataframe thead th {\n",
       "        text-align: right;\n",
       "    }\n",
       "</style>\n",
       "<table border=\"1\" class=\"dataframe\">\n",
       "  <thead>\n",
       "    <tr style=\"text-align: right;\">\n",
       "      <th></th>\n",
       "      <th>name</th>\n",
       "      <th>voteCount</th>\n",
       "      <th>rating</th>\n",
       "      <th>address</th>\n",
       "      <th>cusine</th>\n",
       "      <th>cost</th>\n",
       "      <th>timing</th>\n",
       "    </tr>\n",
       "  </thead>\n",
       "  <tbody>\n",
       "    <tr>\n",
       "      <th>0</th>\n",
       "      <td>Peter Cat</td>\n",
       "      <td>12404</td>\n",
       "      <td>4.2</td>\n",
       "      <td>18A, Park Street, Park Street Area, Kolkata</td>\n",
       "      <td>North Indian, Continental</td>\n",
       "      <td>1000.0</td>\n",
       "      <td>11am – 11:20pm (Mon-Sun)</td>\n",
       "    </tr>\n",
       "    <tr>\n",
       "      <th>1</th>\n",
       "      <td>Naturals Ice Cream</td>\n",
       "      <td>2498</td>\n",
       "      <td>4.9</td>\n",
       "      <td>77/1/A, Ground Floor, Near West Bengal Board, ...</td>\n",
       "      <td>North Indian, Continental</td>\n",
       "      <td>200.0</td>\n",
       "      <td>11am – 12midnight (Mon-Sun)</td>\n",
       "    </tr>\n",
       "    <tr>\n",
       "      <th>2</th>\n",
       "      <td>Carpe Diem</td>\n",
       "      <td>4083</td>\n",
       "      <td>4.4</td>\n",
       "      <td>18M, Park Street Area, Kolkata</td>\n",
       "      <td>Ice Cream</td>\n",
       "      <td>1000.0</td>\n",
       "      <td>12noon – 12midnight (Mon, Tue, Wed, Thu, Fri...</td>\n",
       "    </tr>\n",
       "    <tr>\n",
       "      <th>3</th>\n",
       "      <td>Barbeque Nation</td>\n",
       "      <td>5455</td>\n",
       "      <td>4.6</td>\n",
       "      <td>1st Floor, 24, Park Center Building, Park Stre...</td>\n",
       "      <td>Ice Cream</td>\n",
       "      <td>1800.0</td>\n",
       "      <td>12noon – 3:30pm, 6:30pm – 10:45pm (Mon-Sun)</td>\n",
       "    </tr>\n",
       "    <tr>\n",
       "      <th>4</th>\n",
       "      <td>Flurys</td>\n",
       "      <td>4709</td>\n",
       "      <td>4.2</td>\n",
       "      <td>15, Apeejay House, Park Street Area, Kolkata</td>\n",
       "      <td>Chinese, North Indian, Continental</td>\n",
       "      <td>400.0</td>\n",
       "      <td>7:30am – 11pm (Mon-Sun)</td>\n",
       "    </tr>\n",
       "  </tbody>\n",
       "</table>\n",
       "</div>"
      ],
      "text/plain": [
       "                 name  voteCount  rating  \\\n",
       "0           Peter Cat      12404     4.2   \n",
       "1  Naturals Ice Cream       2498     4.9   \n",
       "2          Carpe Diem       4083     4.4   \n",
       "3     Barbeque Nation       5455     4.6   \n",
       "4              Flurys       4709     4.2   \n",
       "\n",
       "                                             address  \\\n",
       "0        18A, Park Street, Park Street Area, Kolkata   \n",
       "1  77/1/A, Ground Floor, Near West Bengal Board, ...   \n",
       "2                     18M, Park Street Area, Kolkata   \n",
       "3  1st Floor, 24, Park Center Building, Park Stre...   \n",
       "4       15, Apeejay House, Park Street Area, Kolkata   \n",
       "\n",
       "                               cusine    cost  \\\n",
       "0           North Indian, Continental  1000.0   \n",
       "1           North Indian, Continental   200.0   \n",
       "2                           Ice Cream  1000.0   \n",
       "3                           Ice Cream  1800.0   \n",
       "4  Chinese, North Indian, Continental   400.0   \n",
       "\n",
       "                                            timing  \n",
       "0                         11am – 11:20pm (Mon-Sun)  \n",
       "1                      11am – 12midnight (Mon-Sun)  \n",
       "2  12noon – 12midnight (Mon, Tue, Wed, Thu, Fri...  \n",
       "3      12noon – 3:30pm, 6:30pm – 10:45pm (Mon-Sun)  \n",
       "4                          7:30am – 11pm (Mon-Sun)  "
      ]
     },
     "execution_count": 7,
     "metadata": {},
     "output_type": "execute_result"
    }
   ],
   "source": [
    "df[\"voteCount\"] = df[\"voteCount\"].str.replace('votes','')\n",
    "df[\"voteCount\"] = df[\"voteCount\"].astype(\"int\")\n",
    "df.head()"
   ]
  },
  {
   "cell_type": "code",
   "execution_count": 8,
   "id": "167781f4",
   "metadata": {},
   "outputs": [
    {
     "data": {
      "text/plain": [
       "(5193, 7)"
      ]
     },
     "execution_count": 8,
     "metadata": {},
     "output_type": "execute_result"
    }
   ],
   "source": [
    "df.shape"
   ]
  },
  {
   "cell_type": "code",
   "execution_count": 9,
   "id": "96b66eac",
   "metadata": {},
   "outputs": [
    {
     "data": {
      "text/plain": [
       "name          0\n",
       "voteCount     0\n",
       "rating        0\n",
       "address       1\n",
       "cusine        0\n",
       "cost          0\n",
       "timing       16\n",
       "dtype: int64"
      ]
     },
     "execution_count": 9,
     "metadata": {},
     "output_type": "execute_result"
    }
   ],
   "source": [
    "df.isna().sum()"
   ]
  },
  {
   "cell_type": "code",
   "execution_count": 10,
   "id": "51f5336b",
   "metadata": {},
   "outputs": [],
   "source": [
    "df.fillna(\"unknown\", inplace=True)"
   ]
  },
  {
   "cell_type": "code",
   "execution_count": 11,
   "id": "1a8d99f1",
   "metadata": {},
   "outputs": [
    {
     "data": {
      "text/plain": [
       "(5193, 7)"
      ]
     },
     "execution_count": 11,
     "metadata": {},
     "output_type": "execute_result"
    }
   ],
   "source": [
    "df.shape"
   ]
  },
  {
   "cell_type": "code",
   "execution_count": 12,
   "id": "d3d47a16",
   "metadata": {},
   "outputs": [
    {
     "data": {
      "text/plain": [
       "name         0\n",
       "voteCount    0\n",
       "rating       0\n",
       "address      0\n",
       "cusine       0\n",
       "cost         0\n",
       "timing       0\n",
       "dtype: int64"
      ]
     },
     "execution_count": 12,
     "metadata": {},
     "output_type": "execute_result"
    }
   ],
   "source": [
    "df.isna().sum()"
   ]
  },
  {
   "cell_type": "code",
   "execution_count": 13,
   "id": "500c360d",
   "metadata": {},
   "outputs": [],
   "source": [
    "df.rename({\"cusine\":\"cuisine\"}, axis=1, inplace=True)"
   ]
  },
  {
   "cell_type": "code",
   "execution_count": 14,
   "id": "4b9159ec",
   "metadata": {},
   "outputs": [],
   "source": [
    "df[\"timing\"].fillna(\"unknown\", inplace=True)"
   ]
  },
  {
   "cell_type": "code",
   "execution_count": 15,
   "id": "9abec1a5",
   "metadata": {},
   "outputs": [],
   "source": [
    "df.dropna(inplace=True)"
   ]
  },
  {
   "cell_type": "code",
   "execution_count": 16,
   "id": "fe137ed8",
   "metadata": {},
   "outputs": [
    {
     "data": {
      "text/plain": [
       "name         0\n",
       "voteCount    0\n",
       "rating       0\n",
       "address      0\n",
       "cuisine      0\n",
       "cost         0\n",
       "timing       0\n",
       "dtype: int64"
      ]
     },
     "execution_count": 16,
     "metadata": {},
     "output_type": "execute_result"
    }
   ],
   "source": [
    "df.isna().sum()"
   ]
  },
  {
   "cell_type": "code",
   "execution_count": 17,
   "id": "5397eb33",
   "metadata": {},
   "outputs": [],
   "source": [
    "df.to_csv(\"../data/Zomato_cleaned.csv\", index = False)"
   ]
  },
  {
   "cell_type": "code",
   "execution_count": null,
   "id": "293a6e42",
   "metadata": {},
   "outputs": [],
   "source": []
  }
 ],
 "metadata": {
  "kernelspec": {
   "display_name": ".zomato-rs",
   "language": "python",
   "name": ".zomato-rs"
  },
  "language_info": {
   "codemirror_mode": {
    "name": "ipython",
    "version": 3
   },
   "file_extension": ".py",
   "mimetype": "text/x-python",
   "name": "python",
   "nbconvert_exporter": "python",
   "pygments_lexer": "ipython3",
   "version": "3.10.6"
  }
 },
 "nbformat": 4,
 "nbformat_minor": 5
}
