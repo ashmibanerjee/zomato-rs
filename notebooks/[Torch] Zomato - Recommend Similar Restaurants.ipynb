{
 "cells": [
  {
   "cell_type": "code",
   "execution_count": 2,
   "id": "f6e773b4",
   "metadata": {},
   "outputs": [
    {
     "name": "stderr",
     "output_type": "stream",
     "text": [
      "/home/gitpod/.pyenv/versions/3.11.1/lib/python3.11/site-packages/tqdm/auto.py:21: TqdmWarning: IProgress not found. Please update jupyter and ipywidgets. See https://ipywidgets.readthedocs.io/en/stable/user_install.html\n",
      "  from .autonotebook import tqdm as notebook_tqdm\n"
     ]
    }
   ],
   "source": [
    "import pandas as pd\n",
    "import numpy as np\n",
    "from sklearn.preprocessing import MinMaxScaler\n",
    "from sentence_transformers import SentenceTransformer, util\n",
    "from pathlib import Path\n",
    "import os, ast\n",
    "from typing import List\n",
    "import torch"
   ]
  },
  {
   "cell_type": "markdown",
   "id": "09b35b76",
   "metadata": {},
   "source": [
    "## Utility Functions"
   ]
  },
  {
   "cell_type": "code",
   "execution_count": 3,
   "id": "c5eb3753",
   "metadata": {},
   "outputs": [],
   "source": [
    "def load_embeddings(file_path: str) -> pd.DataFrame:\n",
    "    embeddings_df = pd.read_csv(file_path)\n",
    "    return embeddings_df"
   ]
  },
  {
   "cell_type": "code",
   "execution_count": 4,
   "id": "1e715a75",
   "metadata": {},
   "outputs": [],
   "source": [
    "def compute_text_embeddings(df: pd.DataFrame, model_name: str) -> pd.DataFrame:\n",
    "    model = SentenceTransformer(model_name)\n",
    "\n",
    "    print(\"computing embeddings \", df.shape)\n",
    "    features_to_encode = df[\"combined_text\"].values\n",
    "\n",
    "    embeddings = model.encode(features_to_encode)\n",
    "\n",
    "    df[\"embeddings\"] = embeddings.tolist()\n",
    "    df[\"embeddings\"] = df[\"embeddings\"].to_numpy()\n",
    "\n",
    "    file_name = f\"{model_name}_zomato_embeddings.csv\"\n",
    "    file_path = f\"{os.getcwd()}/../data/embeddings/{file_name}\"\n",
    "    print(file_path)\n",
    "    df[[\"name\", \"embeddings\"]].to_csv(file_path, index=False)\n",
    "\n",
    "    print(\"embeddings computed\")\n",
    "    return df"
   ]
  },
  {
   "cell_type": "code",
   "execution_count": 5,
   "id": "aaabf5c0",
   "metadata": {},
   "outputs": [],
   "source": [
    "def get_text_embeddings(df: pd.DataFrame, model_name: str) -> pd.DataFrame:\n",
    "    file_name = f\"{model_name}_zomato_embeddings.csv\"\n",
    "    file_path = Path(f\"{os.getcwd()}/../data/embeddings/{file_name}\")\n",
    "\n",
    "    if file_path.is_file():\n",
    "        embeddings_df = load_embeddings(file_path)\n",
    "        embeddings_df[\"embeddings\"] = embeddings_df[\"embeddings\"].apply(lambda x: np.array(ast.literal_eval(x)))\n",
    "    else:\n",
    "        embeddings_df = compute_text_embeddings(df, model_name)\n",
    "    return embeddings_df"
   ]
  },
  {
   "cell_type": "code",
   "execution_count": 6,
   "id": "778dec3c",
   "metadata": {},
   "outputs": [],
   "source": [
    "def convert_to_tensor(query_vals, remaining_vals):\n",
    "\n",
    "    if type(query_vals) is list:\n",
    "        query_embeddings = torch.FloatTensor(query_vals).float()\n",
    "    else:\n",
    "        query_embeddings = torch.from_numpy(query_vals).float()\n",
    "    remaining_embeddings = np.vstack(remaining_vals).astype(float)\n",
    "    remaining_embeddings = torch.from_numpy(remaining_embeddings).float()\n",
    "    return query_embeddings, remaining_embeddings"
   ]
  },
  {
   "cell_type": "code",
   "execution_count": 7,
   "id": "9f4347e4",
   "metadata": {},
   "outputs": [],
   "source": [
    "def compute_cosine_sim(query_vector, remaining_vector):\n",
    "    results = util.cos_sim(query_vector, remaining_vector)\n",
    "    return results.flatten().tolist()\n"
   ]
  },
  {
   "cell_type": "markdown",
   "id": "a8251945",
   "metadata": {},
   "source": [
    "## Recommendations"
   ]
  },
  {
   "cell_type": "code",
   "execution_count": 8,
   "id": "0b6c5d27",
   "metadata": {},
   "outputs": [],
   "source": [
    "def recommend(query_name: str, df: pd.DataFrame):\n",
    "    # TODO: change this automatically based on features selected\n",
    "    df[\"combined_text\"] = df[\"cuisine\"] + \" \" + df[\"timing\"] + \" \" + str(df[\"cost\"]) + \" \" + str(df[\"rating\"])\n",
    "    embeddings_df = get_text_embeddings(df[[\"name\", \"combined_text\"]], MODEL)\n",
    "\n",
    "    query_cuisine = df.loc[df[\"name\"] == query_name][\"cuisine\"].values[0]\n",
    "    print(f\"recommendations similar to {query_name} of {query_cuisine} cuisine are as follows \\n\")\n",
    "    df_remaining = df.loc[df[\"name\"] != query_name]\n",
    "\n",
    "    query_embeddings = embeddings_df.loc[embeddings_df[\"name\"] == query_name][\"embeddings\"].values[0]\n",
    "    remaining_embeddings = embeddings_df.loc[embeddings_df[\"name\"] != query_name][\"embeddings\"].values\n",
    "\n",
    "    # converting them from numpy ndarray to tensors\n",
    "    query_embeddings, remaining_embeddings = convert_to_tensor(query_embeddings, remaining_embeddings)\n",
    "\n",
    "    results = compute_cosine_sim(query_embeddings, remaining_embeddings)\n",
    "    df_remaining.loc[:, \"sim_scores\"] = results\n",
    "    df_remaining = df_remaining.sort_values(by=[\"sim_scores\"], ascending=False)\n",
    "\n",
    "    return df_remaining.reset_index(drop=True)"
   ]
  },
  {
   "cell_type": "code",
   "execution_count": 9,
   "id": "5d1a0eb5",
   "metadata": {},
   "outputs": [],
   "source": [
    "MODEL = \"all-MiniLM-L6-v2\""
   ]
  },
  {
   "cell_type": "code",
   "execution_count": 10,
   "id": "9ea3d75d",
   "metadata": {},
   "outputs": [
    {
     "data": {
      "text/html": [
       "<div>\n",
       "<style scoped>\n",
       "    .dataframe tbody tr th:only-of-type {\n",
       "        vertical-align: middle;\n",
       "    }\n",
       "\n",
       "    .dataframe tbody tr th {\n",
       "        vertical-align: top;\n",
       "    }\n",
       "\n",
       "    .dataframe thead th {\n",
       "        text-align: right;\n",
       "    }\n",
       "</style>\n",
       "<table border=\"1\" class=\"dataframe\">\n",
       "  <thead>\n",
       "    <tr style=\"text-align: right;\">\n",
       "      <th></th>\n",
       "      <th>name</th>\n",
       "      <th>voteCount</th>\n",
       "      <th>rating</th>\n",
       "      <th>address</th>\n",
       "      <th>cuisine</th>\n",
       "      <th>cost</th>\n",
       "      <th>timing</th>\n",
       "    </tr>\n",
       "  </thead>\n",
       "  <tbody>\n",
       "    <tr>\n",
       "      <th>0</th>\n",
       "      <td>Peter Cat</td>\n",
       "      <td>12404</td>\n",
       "      <td>4.2</td>\n",
       "      <td>18A, Park Street, Park Street Area, Kolkata</td>\n",
       "      <td>North Indian, Continental</td>\n",
       "      <td>1000.0</td>\n",
       "      <td>11am – 11:20pm (Mon-Sun)</td>\n",
       "    </tr>\n",
       "    <tr>\n",
       "      <th>1</th>\n",
       "      <td>Naturals Ice Cream</td>\n",
       "      <td>2498</td>\n",
       "      <td>4.9</td>\n",
       "      <td>77/1/A, Ground Floor, Near West Bengal Board, ...</td>\n",
       "      <td>North Indian, Continental</td>\n",
       "      <td>200.0</td>\n",
       "      <td>11am – 12midnight (Mon-Sun)</td>\n",
       "    </tr>\n",
       "    <tr>\n",
       "      <th>2</th>\n",
       "      <td>Carpe Diem</td>\n",
       "      <td>4083</td>\n",
       "      <td>4.4</td>\n",
       "      <td>18M, Park Street Area, Kolkata</td>\n",
       "      <td>Ice Cream</td>\n",
       "      <td>1000.0</td>\n",
       "      <td>12noon – 12midnight (Mon, Tue, Wed, Thu, Fri...</td>\n",
       "    </tr>\n",
       "    <tr>\n",
       "      <th>3</th>\n",
       "      <td>Barbeque Nation</td>\n",
       "      <td>5455</td>\n",
       "      <td>4.6</td>\n",
       "      <td>1st Floor, 24, Park Center Building, Park Stre...</td>\n",
       "      <td>Ice Cream</td>\n",
       "      <td>1800.0</td>\n",
       "      <td>12noon – 3:30pm, 6:30pm – 10:45pm (Mon-Sun)</td>\n",
       "    </tr>\n",
       "    <tr>\n",
       "      <th>4</th>\n",
       "      <td>Flurys</td>\n",
       "      <td>4709</td>\n",
       "      <td>4.2</td>\n",
       "      <td>15, Apeejay House, Park Street Area, Kolkata</td>\n",
       "      <td>Chinese, North Indian, Continental</td>\n",
       "      <td>400.0</td>\n",
       "      <td>7:30am – 11pm (Mon-Sun)</td>\n",
       "    </tr>\n",
       "  </tbody>\n",
       "</table>\n",
       "</div>"
      ],
      "text/plain": [
       "                 name  voteCount  rating  \\\n",
       "0           Peter Cat      12404     4.2   \n",
       "1  Naturals Ice Cream       2498     4.9   \n",
       "2          Carpe Diem       4083     4.4   \n",
       "3     Barbeque Nation       5455     4.6   \n",
       "4              Flurys       4709     4.2   \n",
       "\n",
       "                                             address  \\\n",
       "0        18A, Park Street, Park Street Area, Kolkata   \n",
       "1  77/1/A, Ground Floor, Near West Bengal Board, ...   \n",
       "2                     18M, Park Street Area, Kolkata   \n",
       "3  1st Floor, 24, Park Center Building, Park Stre...   \n",
       "4       15, Apeejay House, Park Street Area, Kolkata   \n",
       "\n",
       "                              cuisine    cost  \\\n",
       "0           North Indian, Continental  1000.0   \n",
       "1           North Indian, Continental   200.0   \n",
       "2                           Ice Cream  1000.0   \n",
       "3                           Ice Cream  1800.0   \n",
       "4  Chinese, North Indian, Continental   400.0   \n",
       "\n",
       "                                            timing  \n",
       "0                         11am – 11:20pm (Mon-Sun)  \n",
       "1                      11am – 12midnight (Mon-Sun)  \n",
       "2  12noon – 12midnight (Mon, Tue, Wed, Thu, Fri...  \n",
       "3      12noon – 3:30pm, 6:30pm – 10:45pm (Mon-Sun)  \n",
       "4                          7:30am – 11pm (Mon-Sun)  "
      ]
     },
     "execution_count": 10,
     "metadata": {},
     "output_type": "execute_result"
    }
   ],
   "source": [
    "data = pd.read_csv(\"../data/Zomato_cleaned.csv\")\n",
    "data.head()"
   ]
  },
  {
   "cell_type": "code",
   "execution_count": 11,
   "id": "435326ac",
   "metadata": {},
   "outputs": [
    {
     "data": {
      "text/plain": [
       "(5193, 7)"
      ]
     },
     "execution_count": 11,
     "metadata": {},
     "output_type": "execute_result"
    }
   ],
   "source": [
    "data.shape"
   ]
  },
  {
   "cell_type": "code",
   "execution_count": 12,
   "id": "c0a38002",
   "metadata": {},
   "outputs": [
    {
     "data": {
      "text/plain": [
       "name          object\n",
       "voteCount      int64\n",
       "rating       float64\n",
       "address       object\n",
       "cuisine       object\n",
       "cost         float64\n",
       "timing        object\n",
       "dtype: object"
      ]
     },
     "execution_count": 12,
     "metadata": {},
     "output_type": "execute_result"
    }
   ],
   "source": [
    "data.dtypes"
   ]
  },
  {
   "cell_type": "code",
   "execution_count": 14,
   "id": "a03ca0d1",
   "metadata": {},
   "outputs": [
    {
     "name": "stdout",
     "output_type": "stream",
     "text": [
      "recommendations similar to Aahar of Chinese, North Indian cuisine are as follows \n",
      "\n"
     ]
    },
    {
     "name": "stderr",
     "output_type": "stream",
     "text": [
      "/tmp/ipykernel_2357/167575882.py:17: SettingWithCopyWarning: \n",
      "A value is trying to be set on a copy of a slice from a DataFrame.\n",
      "Try using .loc[row_indexer,col_indexer] = value instead\n",
      "\n",
      "See the caveats in the documentation: https://pandas.pydata.org/pandas-docs/stable/user_guide/indexing.html#returning-a-view-versus-a-copy\n",
      "  df_remaining.loc[:, \"sim_scores\"] = results\n"
     ]
    },
    {
     "data": {
      "text/html": [
       "<div>\n",
       "<style scoped>\n",
       "    .dataframe tbody tr th:only-of-type {\n",
       "        vertical-align: middle;\n",
       "    }\n",
       "\n",
       "    .dataframe tbody tr th {\n",
       "        vertical-align: top;\n",
       "    }\n",
       "\n",
       "    .dataframe thead th {\n",
       "        text-align: right;\n",
       "    }\n",
       "</style>\n",
       "<table border=\"1\" class=\"dataframe\">\n",
       "  <thead>\n",
       "    <tr style=\"text-align: right;\">\n",
       "      <th></th>\n",
       "      <th>name</th>\n",
       "      <th>voteCount</th>\n",
       "      <th>rating</th>\n",
       "      <th>address</th>\n",
       "      <th>cuisine</th>\n",
       "      <th>cost</th>\n",
       "      <th>timing</th>\n",
       "      <th>combined_text</th>\n",
       "      <th>sim_scores</th>\n",
       "    </tr>\n",
       "  </thead>\n",
       "  <tbody>\n",
       "    <tr>\n",
       "      <th>0</th>\n",
       "      <td>Haji Malang</td>\n",
       "      <td>137</td>\n",
       "      <td>3.6</td>\n",
       "      <td>257, Panchanantala Road, Howrah Maidan Area, H...</td>\n",
       "      <td>Chinese, North Indian</td>\n",
       "      <td>300.0</td>\n",
       "      <td>12noon – 10pm (Mon-Sun)</td>\n",
       "      <td>Chinese, North Indian 12noon – 10pm (Mon-Sun) ...</td>\n",
       "      <td>1.000000</td>\n",
       "    </tr>\n",
       "    <tr>\n",
       "      <th>1</th>\n",
       "      <td>New Arsalaan Biryani</td>\n",
       "      <td>114</td>\n",
       "      <td>3.8</td>\n",
       "      <td>189/B/1, Santoshpur Avenue, Jora Bridge, Santo...</td>\n",
       "      <td>Chinese, North Indian</td>\n",
       "      <td>200.0</td>\n",
       "      <td>12noon – 10pm (Mon-Sun)</td>\n",
       "      <td>Chinese, North Indian 12noon – 10pm (Mon-Sun) ...</td>\n",
       "      <td>1.000000</td>\n",
       "    </tr>\n",
       "    <tr>\n",
       "      <th>2</th>\n",
       "      <td>Bhojon Rasik</td>\n",
       "      <td>30</td>\n",
       "      <td>3.3</td>\n",
       "      <td>42/A, Gopal Lal Tagore Road, Near Ramkrishna M...</td>\n",
       "      <td>Chinese, North Indian</td>\n",
       "      <td>500.0</td>\n",
       "      <td>12noon – 10pm (Mon-Sun)</td>\n",
       "      <td>Chinese, North Indian 12noon – 10pm (Mon-Sun) ...</td>\n",
       "      <td>1.000000</td>\n",
       "    </tr>\n",
       "    <tr>\n",
       "      <th>3</th>\n",
       "      <td>New Tandoori Nights</td>\n",
       "      <td>442</td>\n",
       "      <td>2.7</td>\n",
       "      <td>Shop 31,CE Market, Sector 1, Salt Lake</td>\n",
       "      <td>Chinese, North Indian</td>\n",
       "      <td>250.0</td>\n",
       "      <td>12noon – 10pm (Mon-Sun)</td>\n",
       "      <td>Chinese, North Indian 12noon – 10pm (Mon-Sun) ...</td>\n",
       "      <td>1.000000</td>\n",
       "    </tr>\n",
       "    <tr>\n",
       "      <th>4</th>\n",
       "      <td>One By One Cafe</td>\n",
       "      <td>37</td>\n",
       "      <td>3.3</td>\n",
       "      <td>1/1 Ramani Chatterjee Road, Gariahat, Kolkata</td>\n",
       "      <td>Chinese, North Indian</td>\n",
       "      <td>500.0</td>\n",
       "      <td>12noon – 9pm (Mon-Sun)</td>\n",
       "      <td>Chinese, North Indian 12noon – 9pm (Mon-Sun) 0...</td>\n",
       "      <td>0.999736</td>\n",
       "    </tr>\n",
       "  </tbody>\n",
       "</table>\n",
       "</div>"
      ],
      "text/plain": [
       "                   name  voteCount  rating  \\\n",
       "0           Haji Malang        137     3.6   \n",
       "1  New Arsalaan Biryani        114     3.8   \n",
       "2          Bhojon Rasik         30     3.3   \n",
       "3   New Tandoori Nights        442     2.7   \n",
       "4       One By One Cafe         37     3.3   \n",
       "\n",
       "                                             address                cuisine  \\\n",
       "0  257, Panchanantala Road, Howrah Maidan Area, H...  Chinese, North Indian   \n",
       "1  189/B/1, Santoshpur Avenue, Jora Bridge, Santo...  Chinese, North Indian   \n",
       "2  42/A, Gopal Lal Tagore Road, Near Ramkrishna M...  Chinese, North Indian   \n",
       "3             Shop 31,CE Market, Sector 1, Salt Lake  Chinese, North Indian   \n",
       "4      1/1 Ramani Chatterjee Road, Gariahat, Kolkata  Chinese, North Indian   \n",
       "\n",
       "    cost                   timing  \\\n",
       "0  300.0  12noon – 10pm (Mon-Sun)   \n",
       "1  200.0  12noon – 10pm (Mon-Sun)   \n",
       "2  500.0  12noon – 10pm (Mon-Sun)   \n",
       "3  250.0  12noon – 10pm (Mon-Sun)   \n",
       "4  500.0   12noon – 9pm (Mon-Sun)   \n",
       "\n",
       "                                       combined_text  sim_scores  \n",
       "0  Chinese, North Indian 12noon – 10pm (Mon-Sun) ...    1.000000  \n",
       "1  Chinese, North Indian 12noon – 10pm (Mon-Sun) ...    1.000000  \n",
       "2  Chinese, North Indian 12noon – 10pm (Mon-Sun) ...    1.000000  \n",
       "3  Chinese, North Indian 12noon – 10pm (Mon-Sun) ...    1.000000  \n",
       "4  Chinese, North Indian 12noon – 9pm (Mon-Sun) 0...    0.999736  "
      ]
     },
     "execution_count": 14,
     "metadata": {},
     "output_type": "execute_result"
    }
   ],
   "source": [
    "recommendations = recommend(\"Aahar\", data)\n",
    "recommendations.head()"
   ]
  },
  {
   "cell_type": "code",
   "execution_count": null,
   "id": "99f009a7",
   "metadata": {},
   "outputs": [],
   "source": []
  }
 ],
 "metadata": {
  "kernelspec": {
   "display_name": "Python 3",
   "language": "python",
   "name": "python3"
  },
  "language_info": {
   "codemirror_mode": {
    "name": "ipython",
    "version": 3
   },
   "file_extension": ".py",
   "mimetype": "text/x-python",
   "name": "python",
   "nbconvert_exporter": "python",
   "pygments_lexer": "ipython3",
   "version": "3.11.1"
  }
 },
 "nbformat": 4,
 "nbformat_minor": 5
}
